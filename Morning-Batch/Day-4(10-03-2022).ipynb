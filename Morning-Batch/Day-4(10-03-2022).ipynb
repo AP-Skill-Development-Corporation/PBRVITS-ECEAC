{
 "cells": [
  {
   "cell_type": "markdown",
   "id": "211bf817",
   "metadata": {},
   "source": [
    "## Loops or Iterations\n",
    "\n",
    "- for loop\n",
    "    - to iterate a sequence\n",
    "    - sequence may have numbers or characters.\n",
    "    \n",
    "    ```\n",
    "    for var in sequence:\n",
    "        statements\n",
    "    ```\n",
    "- while loop"
   ]
  },
  {
   "cell_type": "code",
   "execution_count": null,
   "id": "1538059b",
   "metadata": {},
   "outputs": [],
   "source": [
    "range(4,8) # 4 5 6 7\n",
    "range(7)  # 0 to 6\n",
    "range(30,45,4) # 30 34 38 42 \n",
    "range(40,10) # \n",
    "range(0,40,10) # 0 10 20 30"
   ]
  },
  {
   "cell_type": "code",
   "execution_count": 1,
   "id": "3ad967ac",
   "metadata": {},
   "outputs": [
    {
     "name": "stdout",
     "output_type": "stream",
     "text": [
      "1\n",
      "2\n",
      "3\n",
      "4\n",
      "5\n",
      "6\n",
      "7\n",
      "8\n",
      "9\n",
      "10\n"
     ]
    }
   ],
   "source": [
    "# 1 to 10 numbers\n",
    "for i in range(1,11):\n",
    "    print(i)"
   ]
  },
  {
   "cell_type": "code",
   "execution_count": 11,
   "id": "5dd3046a",
   "metadata": {},
   "outputs": [
    {
     "name": "stdout",
     "output_type": "stream",
     "text": [
      "40 39 38 37 36 35 34 33 32 31 30 29 28 27 26 25 24 23 22 21 20 19 18 17 16 15 14 13 12 11 "
     ]
    }
   ],
   "source": [
    "for k in range(40,10,-1):\n",
    "    print(k,end=\" \")"
   ]
  },
  {
   "cell_type": "code",
   "execution_count": 14,
   "id": "3a3628fb",
   "metadata": {},
   "outputs": [
    {
     "name": "stdout",
     "output_type": "stream",
     "text": [
      "50 52 54 56 58 60 62 64 66 68 "
     ]
    }
   ],
   "source": [
    "for p in range(50,70,2):\n",
    "    print(p,end=\" \")"
   ]
  },
  {
   "cell_type": "code",
   "execution_count": 17,
   "id": "84278626",
   "metadata": {},
   "outputs": [
    {
     "name": "stdout",
     "output_type": "stream",
     "text": [
      "11 13 15 17 19 21 23 "
     ]
    }
   ],
   "source": [
    "for p in range(11,25,2):\n",
    "    print(p,end=\" \")"
   ]
  },
  {
   "cell_type": "code",
   "execution_count": 18,
   "id": "59cdf3c4",
   "metadata": {},
   "outputs": [
    {
     "name": "stdout",
     "output_type": "stream",
     "text": [
      "c\n",
      "o\n",
      "m\n",
      "m\n",
      "u\n",
      "n\n",
      "i\n",
      "c\n",
      "a\n",
      "t\n",
      "i\n",
      "o\n",
      "n\n"
     ]
    }
   ],
   "source": [
    "for ch in 'communication':\n",
    "    print(ch)"
   ]
  },
  {
   "cell_type": "code",
   "execution_count": 19,
   "id": "c4fcb342",
   "metadata": {},
   "outputs": [
    {
     "name": "stdout",
     "output_type": "stream",
     "text": [
      "e\n",
      "n\n",
      "g\n",
      "i\n",
      "n\n",
      "e\n",
      "e\n",
      "r\n",
      "i\n",
      "n\n",
      "g\n"
     ]
    }
   ],
   "source": [
    "s = 'engineering'\n",
    "for i in s:\n",
    "    print(i)"
   ]
  },
  {
   "cell_type": "code",
   "execution_count": 24,
   "id": "691fa0eb",
   "metadata": {},
   "outputs": [
    {
     "name": "stdout",
     "output_type": "stream",
     "text": [
      "Enter starting value: 10\n",
      "Enter ending value: 20\n",
      "10 11 12 13 14 15 16 17 18 19 20 "
     ]
    }
   ],
   "source": [
    "a = int(input(\"Enter starting value: \"))\n",
    "b = int(input(\"Enter ending value: \"))\n",
    "for i in range(a,b+1):\n",
    "    print(i,end=\" \")"
   ]
  },
  {
   "cell_type": "markdown",
   "id": "f3b05cf0",
   "metadata": {},
   "source": [
    "## Tasks\n",
    "\n",
    "1. WAP to print all even numbers in a given range.\n",
    "2. WAP to print all vowels in ur name.\n",
    "3. WAP to print numbers in descending order for a given range.\n",
    "4. WAP to print factors  for a given number.\n",
    "5. WAP to print multiplication table of a given number.\n",
    "```\n",
    "i/p: 11\n",
    "o/p:\n",
    "11 x 1 = 11\n",
    "11 x 2 = 22\n",
    "...\n",
    "...\n",
    "11 x 10 = 110\n",
    "```\n",
    "6. WAP to print factorial of a given number.\n",
    "7. WAP to check whether given number is prime or not\n",
    "8. WAP to check whether given number is perfect number or not."
   ]
  },
  {
   "cell_type": "code",
   "execution_count": 25,
   "id": "67fb3269",
   "metadata": {},
   "outputs": [
    {
     "name": "stdout",
     "output_type": "stream",
     "text": [
      "Enter lowerbound value: 1\n",
      "Enter upperbound value: 10\n",
      "2 4 6 8 "
     ]
    }
   ],
   "source": [
    "# task-1\n",
    "lb = int(input(\"Enter lowerbound value: \"))\n",
    "ub = int(input(\"Enter upperbound value: \"))\n",
    "for n in range(lb,ub):\n",
    "    if n%2==0:\n",
    "        print(n,end=\" \")"
   ]
  },
  {
   "cell_type": "code",
   "execution_count": 26,
   "id": "e88e0fce",
   "metadata": {},
   "outputs": [
    {
     "name": "stdout",
     "output_type": "stream",
     "text": [
      "Enter ur name: analysis\n",
      "a a i "
     ]
    }
   ],
   "source": [
    "# task -2\n",
    "s = input(\"Enter ur name: \")\n",
    "for ch in s:\n",
    "    if ch in 'aeiouAEIOU':\n",
    "        print(ch,end=\" \")"
   ]
  },
  {
   "cell_type": "code",
   "execution_count": 27,
   "id": "68cb1782",
   "metadata": {},
   "outputs": [
    {
     "name": "stdout",
     "output_type": "stream",
     "text": [
      "Enter ur name: analysis\n",
      "n l y s s "
     ]
    }
   ],
   "source": [
    "s = input(\"Enter ur name: \")\n",
    "for ch in s:\n",
    "    if ch not in 'aeiouAEIOU':\n",
    "        print(ch,end=\" \")"
   ]
  },
  {
   "cell_type": "code",
   "execution_count": null,
   "id": "8740f325",
   "metadata": {},
   "outputs": [],
   "source": [
    "#task-3"
   ]
  },
  {
   "cell_type": "code",
   "execution_count": 31,
   "id": "7ffcaf73",
   "metadata": {},
   "outputs": [
    {
     "name": "stdout",
     "output_type": "stream",
     "text": [
      "Enter a number: 100\n",
      "1 2 4 5 10 20 25 50 100 "
     ]
    }
   ],
   "source": [
    "# task-4\n",
    "n = int(input(\"Enter a number: \"))\n",
    "for i in range(1,n+1):\n",
    "    if n%i==0:\n",
    "        print(i,end=\" \")"
   ]
  },
  {
   "cell_type": "code",
   "execution_count": 34,
   "id": "7aa37301",
   "metadata": {},
   "outputs": [
    {
     "name": "stdout",
     "output_type": "stream",
     "text": [
      "Enter a number: 8\n",
      "1 2 4 "
     ]
    }
   ],
   "source": [
    "n = int(input(\"Enter a number: \"))\n",
    "for i in range(1,n//2+1):\n",
    "    if n%i==0:\n",
    "        print(i,end=\" \")"
   ]
  },
  {
   "cell_type": "code",
   "execution_count": 40,
   "id": "a8e1775e",
   "metadata": {},
   "outputs": [
    {
     "name": "stdout",
     "output_type": "stream",
     "text": [
      "Enter a  number: 3\n",
      "3 X 1 = 3\n",
      "3 X 2 = 6\n",
      "3 X 3 = 9\n",
      "3 X 4 = 12\n",
      "3 X 5 = 15\n",
      "3 X 6 = 18\n",
      "3 X 7 = 21\n",
      "3 X 8 = 24\n",
      "3 X 9 = 27\n",
      "3 X 10 = 30\n",
      "3 X 11 = 33\n",
      "3 X 12 = 36\n"
     ]
    }
   ],
   "source": [
    "# task-5\n",
    "d = int(input(\"Enter a  number: \"))\n",
    "for i in range(1,13):\n",
    "    print(\"{} X {} = {}\".format(d,i,d*i))"
   ]
  },
  {
   "cell_type": "code",
   "execution_count": 41,
   "id": "56a83a20",
   "metadata": {},
   "outputs": [
    {
     "name": "stdout",
     "output_type": "stream",
     "text": [
      "Enter a  number: 5\n",
      "Enter lower bound value: 1\n",
      "Enter upper bound value: 7\n",
      "5 X 1 = 5\n",
      "5 X 2 = 10\n",
      "5 X 3 = 15\n",
      "5 X 4 = 20\n",
      "5 X 5 = 25\n",
      "5 X 6 = 30\n",
      "5 X 7 = 35\n"
     ]
    }
   ],
   "source": [
    "d = int(input(\"Enter a  number: \"))\n",
    "lb = int(input(\"Enter lower bound value: \"))\n",
    "ub = int(input(\"Enter upper bound value: \"))\n",
    "for i in range(lb,ub+1):\n",
    "    print(d,'X',i,'=',d*i)"
   ]
  },
  {
   "cell_type": "code",
   "execution_count": 45,
   "id": "148f8ceb",
   "metadata": {},
   "outputs": [
    {
     "name": "stdout",
     "output_type": "stream",
     "text": [
      "Enter a value: 40\n",
      "Number of factors are:  8\n"
     ]
    }
   ],
   "source": [
    "# factors count\n",
    "n = int(input(\"Enter a value: \"))\n",
    "c = 0\n",
    "for j in range(1,n+1):\n",
    "    if n%j==0:\n",
    "        c += 1\n",
    "        # print(j,end=\" \")\n",
    "print(\"Number of factors are: \",c)"
   ]
  },
  {
   "cell_type": "code",
   "execution_count": 47,
   "id": "23b137ba",
   "metadata": {},
   "outputs": [
    {
     "name": "stdout",
     "output_type": "stream",
     "text": [
      "Enter a value: 10\n",
      "18\n"
     ]
    }
   ],
   "source": [
    "# factors sum\n",
    "n = int(input(\"Enter a value: \"))\n",
    "result = 0\n",
    "for j in range(1,n+1):\n",
    "    if n%j==0:\n",
    "        result += j\n",
    "print(result)"
   ]
  },
  {
   "cell_type": "code",
   "execution_count": 51,
   "id": "c6302df2",
   "metadata": {},
   "outputs": [
    {
     "name": "stdout",
     "output_type": "stream",
     "text": [
      "Enter a number: 4\n",
      "24\n"
     ]
    }
   ],
   "source": [
    "# task - 6\n",
    "x = int(input(\"Enter a number: \"))\n",
    "fact = 1\n",
    "for i in range(1,x+1):\n",
    "    fact *= i\n",
    "print(fact)"
   ]
  },
  {
   "cell_type": "code",
   "execution_count": 53,
   "id": "62cc4f1b",
   "metadata": {},
   "outputs": [
    {
     "name": "stdout",
     "output_type": "stream",
     "text": [
      "Enter a number: 5\n",
      "120\n"
     ]
    }
   ],
   "source": [
    "x = int(input(\"Enter a number: \"))\n",
    "fact = 1\n",
    "for i in range(x,1,-1):\n",
    "    fact *= i\n",
    "print(fact)"
   ]
  },
  {
   "cell_type": "code",
   "execution_count": 57,
   "id": "e2494129",
   "metadata": {},
   "outputs": [
    {
     "name": "stdout",
     "output_type": "stream",
     "text": [
      "Enter a value: 788\n",
      "Not a Prime\n"
     ]
    }
   ],
   "source": [
    "# prime or not\n",
    "n = int(input(\"Enter a value: \"))\n",
    "c = 0\n",
    "for j in range(1,n+1):\n",
    "    if n%j==0:\n",
    "        c += 1\n",
    "if c==2:\n",
    "    print(\"Prime\")\n",
    "else:\n",
    "    print(\"Not a Prime\")"
   ]
  },
  {
   "cell_type": "code",
   "execution_count": 5,
   "id": "c901c39f",
   "metadata": {},
   "outputs": [
    {
     "name": "stdout",
     "output_type": "stream",
     "text": [
      "Enter a value: 9\n",
      "Not a Prime\n"
     ]
    }
   ],
   "source": [
    "n = int(input(\"Enter a value: \"))\n",
    "c = 0\n",
    "for j in range(1,n//2+1):\n",
    "    if n%j==0:\n",
    "        c += 1\n",
    "if c==1:\n",
    "    print(\"Prime\")\n",
    "else:\n",
    "    print(\"Not a Prime\")"
   ]
  },
  {
   "cell_type": "code",
   "execution_count": 14,
   "id": "8059f30a",
   "metadata": {
    "scrolled": true
   },
   "outputs": [
    {
     "name": "stdout",
     "output_type": "stream",
     "text": [
      "Enter a value: 56\n",
      "64\n",
      "Not a perfect number\n"
     ]
    }
   ],
   "source": [
    "# perfect number\n",
    "n = int(input(\"Enter a value: \"))\n",
    "result = 0\n",
    "for j in range(1,n):\n",
    "    if n%j==0:\n",
    "        result += j\n",
    "print(result)\n",
    "if result==n:\n",
    "    print(\"Perfect number\")\n",
    "else:\n",
    "    print(\"Not a perfect number\")"
   ]
  },
  {
   "cell_type": "markdown",
   "id": "27d0d04d",
   "metadata": {},
   "source": [
    "### While loop\n",
    "\n",
    "```\n",
    "var initialization\n",
    "while condition:\n",
    "    statements\n",
    "    incre/decre\n",
    "```"
   ]
  },
  {
   "cell_type": "code",
   "execution_count": 1,
   "id": "f2109a81",
   "metadata": {},
   "outputs": [
    {
     "name": "stdout",
     "output_type": "stream",
     "text": [
      "1 2 3 4 5 6 7 8 9 10 "
     ]
    }
   ],
   "source": [
    "# printing 1 to 10 numbers using while loop\n",
    "i = 1\n",
    "while i<=10:\n",
    "    print(i,end=\" \")\n",
    "    i += 1"
   ]
  },
  {
   "cell_type": "code",
   "execution_count": 3,
   "id": "ba306564",
   "metadata": {},
   "outputs": [
    {
     "name": "stdout",
     "output_type": "stream",
     "text": [
      "20 17 14 11 8 5 2 "
     ]
    }
   ],
   "source": [
    "# 20 to 1 values in reverse order.\n",
    "i = 20\n",
    "while i>=1:\n",
    "    print(i,end=\" \")\n",
    "    i -= 3"
   ]
  },
  {
   "cell_type": "code",
   "execution_count": 1,
   "id": "3a598077",
   "metadata": {},
   "outputs": [
    {
     "name": "stdout",
     "output_type": "stream",
     "text": [
      "Enter a number10\n",
      "1 2 5 10 "
     ]
    }
   ],
   "source": [
    "# factors for a given number\n",
    "num = int(input(\"Enter a number\"))\n",
    "i=1\n",
    "while i<=num:\n",
    "    if num%i==0:\n",
    "        print(i,end=\" \")\n",
    "    i+=1"
   ]
  },
  {
   "cell_type": "markdown",
   "id": "81b985d8",
   "metadata": {},
   "source": [
    "### Loop control statements\n",
    "\n",
    "- break\n",
    "    - loop terminate the loop at a particular condition.\n",
    "- continue\n",
    "    - skip the iteration at a given condition\n",
    "- pass"
   ]
  },
  {
   "cell_type": "code",
   "execution_count": 1,
   "id": "1404d35f",
   "metadata": {
    "collapsed": true
   },
   "outputs": [
    {
     "name": "stdout",
     "output_type": "stream",
     "text": [
      "1\n",
      "2\n",
      "3\n",
      "4\n",
      "5\n"
     ]
    }
   ],
   "source": [
    "i=1\n",
    "while i<=10:\n",
    "    if i==6:\n",
    "        break\n",
    "    print(i)\n",
    "    i+=1"
   ]
  },
  {
   "cell_type": "code",
   "execution_count": 2,
   "id": "bd7bc2fd",
   "metadata": {
    "collapsed": true
   },
   "outputs": [
    {
     "name": "stdout",
     "output_type": "stream",
     "text": [
      "1\n",
      "2\n",
      "3\n",
      "4\n",
      "5\n",
      "7\n",
      "8\n",
      "9\n",
      "10\n",
      "11\n",
      "13\n",
      "14\n",
      "15\n",
      "16\n",
      "17\n",
      "19\n"
     ]
    }
   ],
   "source": [
    "for i in range(1,20):\n",
    "    if i%2==0 and i%3==0:\n",
    "        continue\n",
    "    print(i)"
   ]
  },
  {
   "cell_type": "code",
   "execution_count": 4,
   "id": "01db1e90",
   "metadata": {},
   "outputs": [],
   "source": [
    "for i in range(100):\n",
    "    pass"
   ]
  },
  {
   "cell_type": "markdown",
   "id": "5af34be5",
   "metadata": {},
   "source": [
    "## Tasks using while loop\n",
    "\n",
    "- WAP to print all odd factors of a given number.\n",
    "- WAP to print all even factors sum of a given number.\n",
    "- WAP to check given number is prime or not\n",
    "- WAP to print common factors for given two numbers.\n",
    "- WAP to check whether given number is abundant or excessive"
   ]
  },
  {
   "cell_type": "code",
   "execution_count": 1,
   "id": "21f5aab0",
   "metadata": {
    "collapsed": true
   },
   "outputs": [
    {
     "name": "stdout",
     "output_type": "stream",
     "text": [
      "enter a number22\n",
      "1\n",
      "11\n"
     ]
    }
   ],
   "source": [
    "num=int(input('enter a number'))\n",
    "n=1\n",
    "while  n<=num:\n",
    "    if(n%2!=0) and num%n==0:\n",
    "        print(n)\n",
    "    n+=1"
   ]
  },
  {
   "cell_type": "code",
   "execution_count": 4,
   "id": "62813869",
   "metadata": {},
   "outputs": [
    {
     "name": "stdout",
     "output_type": "stream",
     "text": [
      "Enter a number: 20\n",
      "16\n"
     ]
    }
   ],
   "source": [
    "# task-2\n",
    "n = int(input(\"Enter a number: \"))\n",
    "fact_sum = 0\n",
    "i = 1\n",
    "while i<n:\n",
    "    if n%i==0 and i%2==0:\n",
    "        fact_sum += i\n",
    "    i += 1\n",
    "print(fact_sum)"
   ]
  },
  {
   "cell_type": "code",
   "execution_count": null,
   "id": "f76c8a1d",
   "metadata": {},
   "outputs": [],
   "source": [
    "100  ---> 1 2 4 5 10 20 25 50 100\n",
    "200  ---> 1 2 4 5 8 10 20 25 40 50 100 200\n",
    "\n",
    "common --> 1 2 4 5 10 20 25 50 100"
   ]
  },
  {
   "cell_type": "code",
   "execution_count": 7,
   "id": "f50ffc80",
   "metadata": {
    "collapsed": true
   },
   "outputs": [
    {
     "name": "stdout",
     "output_type": "stream",
     "text": [
      "10\n",
      "18\n",
      "1 2 "
     ]
    }
   ],
   "source": [
    "a = int(input())\n",
    "b = int(input())\n",
    "if a>b:\n",
    "    n = b\n",
    "else:\n",
    "    n = a\n",
    "\n",
    "for i in range(1,n+1):\n",
    "    if a%i==0 and b%i==0:\n",
    "        print(i,end=\" \")"
   ]
  }
 ],
 "metadata": {
  "kernelspec": {
   "display_name": "Python 3 (ipykernel)",
   "language": "python",
   "name": "python3"
  },
  "language_info": {
   "codemirror_mode": {
    "name": "ipython",
    "version": 3
   },
   "file_extension": ".py",
   "mimetype": "text/x-python",
   "name": "python",
   "nbconvert_exporter": "python",
   "pygments_lexer": "ipython3",
   "version": "3.7.5"
  }
 },
 "nbformat": 4,
 "nbformat_minor": 5
}
